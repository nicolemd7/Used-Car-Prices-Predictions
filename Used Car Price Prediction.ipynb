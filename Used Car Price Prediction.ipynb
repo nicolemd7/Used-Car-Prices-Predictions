{
 "cells": [
  {
   "cell_type": "code",
   "execution_count": 125,
   "id": "b34475a2",
   "metadata": {},
   "outputs": [],
   "source": [
    "import numpy as np \n",
    "import pandas as pd \n",
    "import matplotlib.pyplot as plot\n",
    "import seaborn as sns"
   ]
  },
  {
   "cell_type": "markdown",
   "id": "b913684f",
   "metadata": {},
   "source": [
    "**Data Exploration**"
   ]
  },
  {
   "cell_type": "code",
   "execution_count": 126,
   "id": "5a2b3074",
   "metadata": {},
   "outputs": [
    {
     "data": {
      "text/html": [
       "<div>\n",
       "<style scoped>\n",
       "    .dataframe tbody tr th:only-of-type {\n",
       "        vertical-align: middle;\n",
       "    }\n",
       "\n",
       "    .dataframe tbody tr th {\n",
       "        vertical-align: top;\n",
       "    }\n",
       "\n",
       "    .dataframe thead th {\n",
       "        text-align: right;\n",
       "    }\n",
       "</style>\n",
       "<table border=\"1\" class=\"dataframe\">\n",
       "  <thead>\n",
       "    <tr style=\"text-align: right;\">\n",
       "      <th></th>\n",
       "      <th>model</th>\n",
       "      <th>year</th>\n",
       "      <th>price</th>\n",
       "      <th>transmission</th>\n",
       "      <th>mileage</th>\n",
       "      <th>fuelType</th>\n",
       "      <th>tax</th>\n",
       "      <th>mpg</th>\n",
       "      <th>engineSize</th>\n",
       "    </tr>\n",
       "  </thead>\n",
       "  <tbody>\n",
       "    <tr>\n",
       "      <th>0</th>\n",
       "      <td>A1</td>\n",
       "      <td>2017</td>\n",
       "      <td>12500</td>\n",
       "      <td>Manual</td>\n",
       "      <td>15735</td>\n",
       "      <td>Petrol</td>\n",
       "      <td>150</td>\n",
       "      <td>55.4</td>\n",
       "      <td>1.4</td>\n",
       "    </tr>\n",
       "    <tr>\n",
       "      <th>1</th>\n",
       "      <td>A6</td>\n",
       "      <td>2016</td>\n",
       "      <td>16500</td>\n",
       "      <td>Automatic</td>\n",
       "      <td>36203</td>\n",
       "      <td>Diesel</td>\n",
       "      <td>20</td>\n",
       "      <td>64.2</td>\n",
       "      <td>2.0</td>\n",
       "    </tr>\n",
       "    <tr>\n",
       "      <th>2</th>\n",
       "      <td>A1</td>\n",
       "      <td>2016</td>\n",
       "      <td>11000</td>\n",
       "      <td>Manual</td>\n",
       "      <td>29946</td>\n",
       "      <td>Petrol</td>\n",
       "      <td>30</td>\n",
       "      <td>55.4</td>\n",
       "      <td>1.4</td>\n",
       "    </tr>\n",
       "    <tr>\n",
       "      <th>3</th>\n",
       "      <td>A4</td>\n",
       "      <td>2017</td>\n",
       "      <td>16800</td>\n",
       "      <td>Automatic</td>\n",
       "      <td>25952</td>\n",
       "      <td>Diesel</td>\n",
       "      <td>145</td>\n",
       "      <td>67.3</td>\n",
       "      <td>2.0</td>\n",
       "    </tr>\n",
       "    <tr>\n",
       "      <th>4</th>\n",
       "      <td>A3</td>\n",
       "      <td>2019</td>\n",
       "      <td>17300</td>\n",
       "      <td>Manual</td>\n",
       "      <td>1998</td>\n",
       "      <td>Petrol</td>\n",
       "      <td>145</td>\n",
       "      <td>49.6</td>\n",
       "      <td>1.0</td>\n",
       "    </tr>\n",
       "  </tbody>\n",
       "</table>\n",
       "</div>"
      ],
      "text/plain": [
       "  model  year  price transmission  mileage fuelType  tax   mpg  engineSize\n",
       "0    A1  2017  12500       Manual    15735   Petrol  150  55.4         1.4\n",
       "1    A6  2016  16500    Automatic    36203   Diesel   20  64.2         2.0\n",
       "2    A1  2016  11000       Manual    29946   Petrol   30  55.4         1.4\n",
       "3    A4  2017  16800    Automatic    25952   Diesel  145  67.3         2.0\n",
       "4    A3  2019  17300       Manual     1998   Petrol  145  49.6         1.0"
      ]
     },
     "execution_count": 126,
     "metadata": {},
     "output_type": "execute_result"
    }
   ],
   "source": [
    "dataframe = pd.read_csv('audi.csv')\n",
    "dataframe.head()"
   ]
  },
  {
   "cell_type": "code",
   "execution_count": 127,
   "id": "62ca66ce",
   "metadata": {},
   "outputs": [
    {
     "data": {
      "text/plain": [
       "(10668, 9)"
      ]
     },
     "execution_count": 127,
     "metadata": {},
     "output_type": "execute_result"
    }
   ],
   "source": [
    "dataframe.shape"
   ]
  },
  {
   "cell_type": "code",
   "execution_count": 128,
   "id": "024168c1",
   "metadata": {},
   "outputs": [
    {
     "data": {
      "text/html": [
       "<div>\n",
       "<style scoped>\n",
       "    .dataframe tbody tr th:only-of-type {\n",
       "        vertical-align: middle;\n",
       "    }\n",
       "\n",
       "    .dataframe tbody tr th {\n",
       "        vertical-align: top;\n",
       "    }\n",
       "\n",
       "    .dataframe thead th {\n",
       "        text-align: right;\n",
       "    }\n",
       "</style>\n",
       "<table border=\"1\" class=\"dataframe\">\n",
       "  <thead>\n",
       "    <tr style=\"text-align: right;\">\n",
       "      <th></th>\n",
       "      <th>year</th>\n",
       "      <th>price</th>\n",
       "      <th>mileage</th>\n",
       "      <th>tax</th>\n",
       "      <th>mpg</th>\n",
       "      <th>engineSize</th>\n",
       "    </tr>\n",
       "  </thead>\n",
       "  <tbody>\n",
       "    <tr>\n",
       "      <th>count</th>\n",
       "      <td>10668.000000</td>\n",
       "      <td>10668.000000</td>\n",
       "      <td>10668.000000</td>\n",
       "      <td>10668.000000</td>\n",
       "      <td>10668.000000</td>\n",
       "      <td>10668.000000</td>\n",
       "    </tr>\n",
       "    <tr>\n",
       "      <th>mean</th>\n",
       "      <td>2017.100675</td>\n",
       "      <td>22896.685039</td>\n",
       "      <td>24827.244001</td>\n",
       "      <td>126.011436</td>\n",
       "      <td>50.770022</td>\n",
       "      <td>1.930709</td>\n",
       "    </tr>\n",
       "    <tr>\n",
       "      <th>std</th>\n",
       "      <td>2.167494</td>\n",
       "      <td>11714.841888</td>\n",
       "      <td>23505.257205</td>\n",
       "      <td>67.170294</td>\n",
       "      <td>12.949782</td>\n",
       "      <td>0.602957</td>\n",
       "    </tr>\n",
       "    <tr>\n",
       "      <th>min</th>\n",
       "      <td>1997.000000</td>\n",
       "      <td>1490.000000</td>\n",
       "      <td>1.000000</td>\n",
       "      <td>0.000000</td>\n",
       "      <td>18.900000</td>\n",
       "      <td>0.000000</td>\n",
       "    </tr>\n",
       "    <tr>\n",
       "      <th>25%</th>\n",
       "      <td>2016.000000</td>\n",
       "      <td>15130.750000</td>\n",
       "      <td>5968.750000</td>\n",
       "      <td>125.000000</td>\n",
       "      <td>40.900000</td>\n",
       "      <td>1.500000</td>\n",
       "    </tr>\n",
       "    <tr>\n",
       "      <th>50%</th>\n",
       "      <td>2017.000000</td>\n",
       "      <td>20200.000000</td>\n",
       "      <td>19000.000000</td>\n",
       "      <td>145.000000</td>\n",
       "      <td>49.600000</td>\n",
       "      <td>2.000000</td>\n",
       "    </tr>\n",
       "    <tr>\n",
       "      <th>75%</th>\n",
       "      <td>2019.000000</td>\n",
       "      <td>27990.000000</td>\n",
       "      <td>36464.500000</td>\n",
       "      <td>145.000000</td>\n",
       "      <td>58.900000</td>\n",
       "      <td>2.000000</td>\n",
       "    </tr>\n",
       "    <tr>\n",
       "      <th>max</th>\n",
       "      <td>2020.000000</td>\n",
       "      <td>145000.000000</td>\n",
       "      <td>323000.000000</td>\n",
       "      <td>580.000000</td>\n",
       "      <td>188.300000</td>\n",
       "      <td>6.300000</td>\n",
       "    </tr>\n",
       "  </tbody>\n",
       "</table>\n",
       "</div>"
      ],
      "text/plain": [
       "               year          price        mileage           tax           mpg  \\\n",
       "count  10668.000000   10668.000000   10668.000000  10668.000000  10668.000000   \n",
       "mean    2017.100675   22896.685039   24827.244001    126.011436     50.770022   \n",
       "std        2.167494   11714.841888   23505.257205     67.170294     12.949782   \n",
       "min     1997.000000    1490.000000       1.000000      0.000000     18.900000   \n",
       "25%     2016.000000   15130.750000    5968.750000    125.000000     40.900000   \n",
       "50%     2017.000000   20200.000000   19000.000000    145.000000     49.600000   \n",
       "75%     2019.000000   27990.000000   36464.500000    145.000000     58.900000   \n",
       "max     2020.000000  145000.000000  323000.000000    580.000000    188.300000   \n",
       "\n",
       "         engineSize  \n",
       "count  10668.000000  \n",
       "mean       1.930709  \n",
       "std        0.602957  \n",
       "min        0.000000  \n",
       "25%        1.500000  \n",
       "50%        2.000000  \n",
       "75%        2.000000  \n",
       "max        6.300000  "
      ]
     },
     "execution_count": 128,
     "metadata": {},
     "output_type": "execute_result"
    }
   ],
   "source": [
    "dataframe.describe()"
   ]
  },
  {
   "cell_type": "code",
   "execution_count": 129,
   "id": "adf319c5",
   "metadata": {},
   "outputs": [
    {
     "data": {
      "text/plain": [
       "model           0\n",
       "year            0\n",
       "price           0\n",
       "transmission    0\n",
       "mileage         0\n",
       "fuelType        0\n",
       "tax             0\n",
       "mpg             0\n",
       "engineSize      0\n",
       "dtype: int64"
      ]
     },
     "execution_count": 129,
     "metadata": {},
     "output_type": "execute_result"
    }
   ],
   "source": [
    "dataframe.isnull().sum()"
   ]
  },
  {
   "cell_type": "code",
   "execution_count": 130,
   "id": "40845f0a",
   "metadata": {},
   "outputs": [
    {
     "name": "stdout",
     "output_type": "stream",
     "text": [
      "<class 'pandas.core.frame.DataFrame'>\n",
      "RangeIndex: 10668 entries, 0 to 10667\n",
      "Data columns (total 9 columns):\n",
      " #   Column        Non-Null Count  Dtype  \n",
      "---  ------        --------------  -----  \n",
      " 0   model         10668 non-null  object \n",
      " 1   year          10668 non-null  int64  \n",
      " 2   price         10668 non-null  int64  \n",
      " 3   transmission  10668 non-null  object \n",
      " 4   mileage       10668 non-null  int64  \n",
      " 5   fuelType      10668 non-null  object \n",
      " 6   tax           10668 non-null  int64  \n",
      " 7   mpg           10668 non-null  float64\n",
      " 8   engineSize    10668 non-null  float64\n",
      "dtypes: float64(2), int64(4), object(3)\n",
      "memory usage: 750.2+ KB\n"
     ]
    }
   ],
   "source": [
    "dataframe.info()"
   ]
  },
  {
   "cell_type": "markdown",
   "id": "9c5338b6",
   "metadata": {},
   "source": [
    "Through the **.info()** function we have found the categorical values that we will have to encode at a later stage"
   ]
  },
  {
   "cell_type": "code",
   "execution_count": 131,
   "id": "6f2092a4",
   "metadata": {},
   "outputs": [
    {
     "data": {
      "text/plain": [
       "array([' A1', ' A6', ' A4', ' A3', ' Q3', ' Q5', ' A5', ' S4', ' Q2',\n",
       "       ' A7', ' TT', ' Q7', ' RS6', ' RS3', ' A8', ' Q8', ' RS4', ' RS5',\n",
       "       ' R8', ' SQ5', ' S8', ' SQ7', ' S3', ' S5', ' A2', ' RS7'],\n",
       "      dtype=object)"
      ]
     },
     "execution_count": 131,
     "metadata": {},
     "output_type": "execute_result"
    }
   ],
   "source": [
    "dataframe['model'].unique()"
   ]
  },
  {
   "cell_type": "code",
   "execution_count": 132,
   "id": "4fdae2c5",
   "metadata": {},
   "outputs": [
    {
     "data": {
      "text/plain": [
       "array(['Manual', 'Automatic', 'Semi-Auto'], dtype=object)"
      ]
     },
     "execution_count": 132,
     "metadata": {},
     "output_type": "execute_result"
    }
   ],
   "source": [
    "dataframe['transmission'].unique()"
   ]
  },
  {
   "cell_type": "code",
   "execution_count": 133,
   "id": "1d69cb4a",
   "metadata": {},
   "outputs": [
    {
     "data": {
      "text/plain": [
       "array(['Petrol', 'Diesel', 'Hybrid'], dtype=object)"
      ]
     },
     "execution_count": 133,
     "metadata": {},
     "output_type": "execute_result"
    }
   ],
   "source": [
    "dataframe['fuelType'].unique()"
   ]
  },
  {
   "cell_type": "code",
   "execution_count": 134,
   "id": "7538d7bc",
   "metadata": {},
   "outputs": [
    {
     "data": {
      "text/plain": [
       "<AxesSubplot:>"
      ]
     },
     "execution_count": 134,
     "metadata": {},
     "output_type": "execute_result"
    },
    {
     "data": {
      "image/png": "[encoded data removed]",
      "text/plain": [
       "<Figure size 432x288 with 2 Axes>"
      ]
     },
     "metadata": {},
     "output_type": "display_data"
    }
   ],
   "source": [
    "sns.heatmap(dataframe.corr(),cmap=\"Blues\",annot=True)"
   ]
  },
  {
   "cell_type": "markdown",
   "id": "aed6f159",
   "metadata": {},
   "source": [
    "From the heatmap we can infer that *Year*,*Price* & *Engine Size* are positively correlated i.e the older the car the lower it's resale value"
   ]
  },
  {
   "cell_type": "code",
   "execution_count": 135,
   "id": "d4239700",
   "metadata": {},
   "outputs": [
    {
     "data": {
      "text/plain": [
       "Index(['model', 'year', 'price', 'transmission', 'mileage', 'fuelType', 'tax',\n",
       "       'mpg', 'engineSize'],\n",
       "      dtype='object')"
      ]
     },
     "execution_count": 135,
     "metadata": {},
     "output_type": "execute_result"
    }
   ],
   "source": [
    "dataframe.columns"
   ]
  },
  {
   "cell_type": "code",
   "execution_count": 136,
   "id": "dafdfc2b",
   "metadata": {},
   "outputs": [
    {
     "data": {
      "image/png": "[encoded data removed]",
      "text/plain": [
       "<Figure size 1296x1296 with 1 Axes>"
      ]
     },
     "metadata": {},
     "output_type": "display_data"
    }
   ],
   "source": [
    "# Checking the price by model\n",
    "plt.subplots(figsize=(18,18))\n",
    "price_by_model = dataframe.groupby(\"model\")['price'].mean().reset_index()\n",
    "plt.title(\"Average Price of vechicle\")\n",
    "sns.set()\n",
    "sns.barplot(x=\"model\", y =\"price\", data = price_by_model)\n",
    "plt.show()"
   ]
  },
  {
   "cell_type": "code",
   "execution_count": 137,
   "id": "9f90e00c",
   "metadata": {},
   "outputs": [
    {
     "name": "stdout",
     "output_type": "stream",
     "text": [
      "<class 'pandas.core.frame.DataFrame'>\n",
      "RangeIndex: 10668 entries, 0 to 10667\n",
      "Data columns (total 9 columns):\n",
      " #   Column        Non-Null Count  Dtype  \n",
      "---  ------        --------------  -----  \n",
      " 0   model         10668 non-null  object \n",
      " 1   year          10668 non-null  int64  \n",
      " 2   price         10668 non-null  int64  \n",
      " 3   transmission  10668 non-null  object \n",
      " 4   mileage       10668 non-null  int64  \n",
      " 5   fuelType      10668 non-null  object \n",
      " 6   tax           10668 non-null  int64  \n",
      " 7   mpg           10668 non-null  float64\n",
      " 8   engineSize    10668 non-null  float64\n",
      "dtypes: float64(2), int64(4), object(3)\n",
      "memory usage: 750.2+ KB\n"
     ]
    }
   ],
   "source": [
    "dataframe.info()"
   ]
  },
  {
   "cell_type": "code",
   "execution_count": 138,
   "id": "0bbc87d3",
   "metadata": {},
   "outputs": [
    {
     "name": "stderr",
     "output_type": "stream",
     "text": [
      "C:\\Users\\nicole\\anaconda3\\lib\\site-packages\\seaborn\\_decorators.py:36: FutureWarning: Pass the following variable as a keyword arg: x. From version 0.12, the only valid positional argument will be `data`, and passing other arguments without an explicit keyword will result in an error or misinterpretation.\n",
      "  warnings.warn(\n"
     ]
    },
    {
     "data": {
      "text/plain": [
       "<AxesSubplot:xlabel='transmission', ylabel='count'>"
      ]
     },
     "execution_count": 138,
     "metadata": {},
     "output_type": "execute_result"
    },
    {
     "data": {
      "image/png": "[encoded data removed]",
      "text/plain": [
       "<Figure size 432x288 with 1 Axes>"
      ]
     },
     "metadata": {},
     "output_type": "display_data"
    }
   ],
   "source": [
    "sns.countplot(dataframe[\"transmission\"])"
   ]
  },
  {
   "cell_type": "code",
   "execution_count": 139,
   "id": "9e1c2f92",
   "metadata": {},
   "outputs": [
    {
     "name": "stderr",
     "output_type": "stream",
     "text": [
      "C:\\Users\\nicole\\anaconda3\\lib\\site-packages\\seaborn\\_decorators.py:36: FutureWarning: Pass the following variable as a keyword arg: x. From version 0.12, the only valid positional argument will be `data`, and passing other arguments without an explicit keyword will result in an error or misinterpretation.\n",
      "  warnings.warn(\n"
     ]
    },
    {
     "data": {
      "text/plain": [
       "<AxesSubplot:xlabel='fuelType', ylabel='count'>"
      ]
     },
     "execution_count": 139,
     "metadata": {},
     "output_type": "execute_result"
    },
    {
     "data": {
      "image/png": "[encoded data removed]",
      "text/plain": [
       "<Figure size 432x288 with 1 Axes>"
      ]
     },
     "metadata": {},
     "output_type": "display_data"
    }
   ],
   "source": [
    "sns.countplot(dataframe[\"fuelType\"])"
   ]
  },
  {
   "cell_type": "code",
   "execution_count": 140,
   "id": "aaff1d3a",
   "metadata": {},
   "outputs": [
    {
     "data": {
      "text/plain": [
       "price       443\n",
       "mileage     324\n",
       "mpg          33\n",
       "tax        3287\n",
       "dtype: int64"
      ]
     },
     "execution_count": 140,
     "metadata": {},
     "output_type": "execute_result"
    }
   ],
   "source": [
    "dataset1= dataframe[[\"price\", \"mileage\", \"mpg\", \"tax\"]]\n",
    "Q1 = dataset1.quantile(0.25)\n",
    "Q3 = dataset1.quantile(0.75)\n",
    "IQR = Q3 - Q1\n",
    "((dataset1 < (Q1 - 1.5 * IQR)) | (dataset1> (Q3 + 1.5 * IQR))).sum()"
   ]
  },
  {
   "cell_type": "code",
   "execution_count": 141,
   "id": "07c7bcc6",
   "metadata": {},
   "outputs": [],
   "source": [
    "df =pd.get_dummies(dataframe, columns=['transmission','fuelType'])"
   ]
  },
  {
   "cell_type": "code",
   "execution_count": 142,
   "id": "ea1c88be",
   "metadata": {},
   "outputs": [
    {
     "data": {
      "text/html": [
       "<div>\n",
       "<style scoped>\n",
       "    .dataframe tbody tr th:only-of-type {\n",
       "        vertical-align: middle;\n",
       "    }\n",
       "\n",
       "    .dataframe tbody tr th {\n",
       "        vertical-align: top;\n",
       "    }\n",
       "\n",
       "    .dataframe thead th {\n",
       "        text-align: right;\n",
       "    }\n",
       "</style>\n",
       "<table border=\"1\" class=\"dataframe\">\n",
       "  <thead>\n",
       "    <tr style=\"text-align: right;\">\n",
       "      <th></th>\n",
       "      <th>model</th>\n",
       "      <th>year</th>\n",
       "      <th>price</th>\n",
       "      <th>mileage</th>\n",
       "      <th>tax</th>\n",
       "      <th>mpg</th>\n",
       "      <th>engineSize</th>\n",
       "      <th>transmission_Automatic</th>\n",
       "      <th>transmission_Manual</th>\n",
       "      <th>transmission_Semi-Auto</th>\n",
       "      <th>fuelType_Diesel</th>\n",
       "      <th>fuelType_Hybrid</th>\n",
       "      <th>fuelType_Petrol</th>\n",
       "    </tr>\n",
       "  </thead>\n",
       "  <tbody>\n",
       "    <tr>\n",
       "      <th>0</th>\n",
       "      <td>A1</td>\n",
       "      <td>2017</td>\n",
       "      <td>12500</td>\n",
       "      <td>15735</td>\n",
       "      <td>150</td>\n",
       "      <td>55.4</td>\n",
       "      <td>1.4</td>\n",
       "      <td>0</td>\n",
       "      <td>1</td>\n",
       "      <td>0</td>\n",
       "      <td>0</td>\n",
       "      <td>0</td>\n",
       "      <td>1</td>\n",
       "    </tr>\n",
       "    <tr>\n",
       "      <th>1</th>\n",
       "      <td>A6</td>\n",
       "      <td>2016</td>\n",
       "      <td>16500</td>\n",
       "      <td>36203</td>\n",
       "      <td>20</td>\n",
       "      <td>64.2</td>\n",
       "      <td>2.0</td>\n",
       "      <td>1</td>\n",
       "      <td>0</td>\n",
       "      <td>0</td>\n",
       "      <td>1</td>\n",
       "      <td>0</td>\n",
       "      <td>0</td>\n",
       "    </tr>\n",
       "    <tr>\n",
       "      <th>2</th>\n",
       "      <td>A1</td>\n",
       "      <td>2016</td>\n",
       "      <td>11000</td>\n",
       "      <td>29946</td>\n",
       "      <td>30</td>\n",
       "      <td>55.4</td>\n",
       "      <td>1.4</td>\n",
       "      <td>0</td>\n",
       "      <td>1</td>\n",
       "      <td>0</td>\n",
       "      <td>0</td>\n",
       "      <td>0</td>\n",
       "      <td>1</td>\n",
       "    </tr>\n",
       "    <tr>\n",
       "      <th>3</th>\n",
       "      <td>A4</td>\n",
       "      <td>2017</td>\n",
       "      <td>16800</td>\n",
       "      <td>25952</td>\n",
       "      <td>145</td>\n",
       "      <td>67.3</td>\n",
       "      <td>2.0</td>\n",
       "      <td>1</td>\n",
       "      <td>0</td>\n",
       "      <td>0</td>\n",
       "      <td>1</td>\n",
       "      <td>0</td>\n",
       "      <td>0</td>\n",
       "    </tr>\n",
       "    <tr>\n",
       "      <th>4</th>\n",
       "      <td>A3</td>\n",
       "      <td>2019</td>\n",
       "      <td>17300</td>\n",
       "      <td>1998</td>\n",
       "      <td>145</td>\n",
       "      <td>49.6</td>\n",
       "      <td>1.0</td>\n",
       "      <td>0</td>\n",
       "      <td>1</td>\n",
       "      <td>0</td>\n",
       "      <td>0</td>\n",
       "      <td>0</td>\n",
       "      <td>1</td>\n",
       "    </tr>\n",
       "  </tbody>\n",
       "</table>\n",
       "</div>"
      ],
      "text/plain": [
       "  model  year  price  mileage  tax   mpg  engineSize  transmission_Automatic  \\\n",
       "0    A1  2017  12500    15735  150  55.4         1.4                       0   \n",
       "1    A6  2016  16500    36203   20  64.2         2.0                       1   \n",
       "2    A1  2016  11000    29946   30  55.4         1.4                       0   \n",
       "3    A4  2017  16800    25952  145  67.3         2.0                       1   \n",
       "4    A3  2019  17300     1998  145  49.6         1.0                       0   \n",
       "\n",
       "   transmission_Manual  transmission_Semi-Auto  fuelType_Diesel  \\\n",
       "0                    1                       0                0   \n",
       "1                    0                       0                1   \n",
       "2                    1                       0                0   \n",
       "3                    0                       0                1   \n",
       "4                    1                       0                0   \n",
       "\n",
       "   fuelType_Hybrid  fuelType_Petrol  \n",
       "0                0                1  \n",
       "1                0                0  \n",
       "2                0                1  \n",
       "3                0                0  \n",
       "4                0                1  "
      ]
     },
     "execution_count": 142,
     "metadata": {},
     "output_type": "execute_result"
    }
   ],
   "source": [
    "df.head()"
   ]
  },
  {
   "cell_type": "code",
   "execution_count": 143,
   "id": "173a07d9",
   "metadata": {},
   "outputs": [
    {
     "data": {
      "image/png": "[encoded data removed]",
      "text/plain": [
       "<Figure size 720x3600 with 5 Axes>"
      ]
     },
     "metadata": {},
     "output_type": "display_data"
    }
   ],
   "source": [
    "#outliers boxplot\n",
    "col_names = [\"price\", \"mileage\", \"tax\", \"mpg\", \"engineSize\"]\n",
    "fig, ax = plot.subplots(len(col_names), figsize = (10,50))\n",
    "for i, col_val in enumerate(col_names):\n",
    "\n",
    "    sns.boxplot(x = df[col_val], ax=ax[i])\n",
    "    ax[i].set_title('A boxplot on the {} column'.format(col_val), fontsize=14)\n",
    "    ax[i].set_xlabel(col_val, fontsize=8)\n",
    "plot.show()"
   ]
  },
  {
   "cell_type": "code",
   "execution_count": 144,
   "id": "8e7af040",
   "metadata": {},
   "outputs": [
    {
     "name": "stderr",
     "output_type": "stream",
     "text": [
      "<ipython-input-144-0fbe00ed1e73>:4: FutureWarning: Automatic reindexing on DataFrame vs Series comparisons is deprecated and will raise ValueError in a future version.  Do `left, right = left.align(right, axis=1, copy=False)` before e.g. `left == right`\n",
      "  ((df < (Q1 - 1.5 * IQR)) | (df> (Q3 + 1.5 * IQR))).sum()\n",
      "<ipython-input-144-0fbe00ed1e73>:4: FutureWarning: Automatic reindexing on DataFrame vs Series comparisons is deprecated and will raise ValueError in a future version.  Do `left, right = left.align(right, axis=1, copy=False)` before e.g. `left == right`\n",
      "  ((df < (Q1 - 1.5 * IQR)) | (df> (Q3 + 1.5 * IQR))).sum()\n"
     ]
    },
    {
     "data": {
      "text/plain": [
       "engineSize                1465\n",
       "fuelType_Diesel              0\n",
       "fuelType_Hybrid             28\n",
       "fuelType_Petrol              0\n",
       "mileage                    324\n",
       "model                        0\n",
       "mpg                         33\n",
       "price                      443\n",
       "tax                       3287\n",
       "transmission_Automatic       0\n",
       "transmission_Manual          0\n",
       "transmission_Semi-Auto       0\n",
       "year                       170\n",
       "dtype: int64"
      ]
     },
     "execution_count": 144,
     "metadata": {},
     "output_type": "execute_result"
    }
   ],
   "source": [
    "Q1 = df.quantile(0.25)\n",
    "Q3 = df.quantile(0.75)\n",
    "IQR = Q3 - Q1\n",
    "((df < (Q1 - 1.5 * IQR)) | (df> (Q3 + 1.5 * IQR))).sum()"
   ]
  },
  {
   "cell_type": "markdown",
   "id": "b1874005",
   "metadata": {},
   "source": [
    "Since Tax seems to have a lot of outliers we will drop tax"
   ]
  },
  {
   "cell_type": "code",
   "execution_count": 145,
   "id": "7f33aa0c",
   "metadata": {},
   "outputs": [],
   "source": [
    "df= df.drop(['tax'],axis=1)"
   ]
  },
  {
   "cell_type": "code",
   "execution_count": 146,
   "id": "88719d76",
   "metadata": {},
   "outputs": [
    {
     "data": {
      "text/html": [
       "<div>\n",
       "<style scoped>\n",
       "    .dataframe tbody tr th:only-of-type {\n",
       "        vertical-align: middle;\n",
       "    }\n",
       "\n",
       "    .dataframe tbody tr th {\n",
       "        vertical-align: top;\n",
       "    }\n",
       "\n",
       "    .dataframe thead th {\n",
       "        text-align: right;\n",
       "    }\n",
       "</style>\n",
       "<table border=\"1\" class=\"dataframe\">\n",
       "  <thead>\n",
       "    <tr style=\"text-align: right;\">\n",
       "      <th></th>\n",
       "      <th>model</th>\n",
       "      <th>year</th>\n",
       "      <th>price</th>\n",
       "      <th>mileage</th>\n",
       "      <th>mpg</th>\n",
       "      <th>engineSize</th>\n",
       "      <th>transmission_Automatic</th>\n",
       "      <th>transmission_Manual</th>\n",
       "      <th>transmission_Semi-Auto</th>\n",
       "      <th>fuelType_Diesel</th>\n",
       "      <th>fuelType_Hybrid</th>\n",
       "      <th>fuelType_Petrol</th>\n",
       "    </tr>\n",
       "  </thead>\n",
       "  <tbody>\n",
       "    <tr>\n",
       "      <th>0</th>\n",
       "      <td>A1</td>\n",
       "      <td>2017</td>\n",
       "      <td>12500</td>\n",
       "      <td>15735</td>\n",
       "      <td>55.4</td>\n",
       "      <td>1.4</td>\n",
       "      <td>0</td>\n",
       "      <td>1</td>\n",
       "      <td>0</td>\n",
       "      <td>0</td>\n",
       "      <td>0</td>\n",
       "      <td>1</td>\n",
       "    </tr>\n",
       "    <tr>\n",
       "      <th>1</th>\n",
       "      <td>A6</td>\n",
       "      <td>2016</td>\n",
       "      <td>16500</td>\n",
       "      <td>36203</td>\n",
       "      <td>64.2</td>\n",
       "      <td>2.0</td>\n",
       "      <td>1</td>\n",
       "      <td>0</td>\n",
       "      <td>0</td>\n",
       "      <td>1</td>\n",
       "      <td>0</td>\n",
       "      <td>0</td>\n",
       "    </tr>\n",
       "    <tr>\n",
       "      <th>2</th>\n",
       "      <td>A1</td>\n",
       "      <td>2016</td>\n",
       "      <td>11000</td>\n",
       "      <td>29946</td>\n",
       "      <td>55.4</td>\n",
       "      <td>1.4</td>\n",
       "      <td>0</td>\n",
       "      <td>1</td>\n",
       "      <td>0</td>\n",
       "      <td>0</td>\n",
       "      <td>0</td>\n",
       "      <td>1</td>\n",
       "    </tr>\n",
       "    <tr>\n",
       "      <th>3</th>\n",
       "      <td>A4</td>\n",
       "      <td>2017</td>\n",
       "      <td>16800</td>\n",
       "      <td>25952</td>\n",
       "      <td>67.3</td>\n",
       "      <td>2.0</td>\n",
       "      <td>1</td>\n",
       "      <td>0</td>\n",
       "      <td>0</td>\n",
       "      <td>1</td>\n",
       "      <td>0</td>\n",
       "      <td>0</td>\n",
       "    </tr>\n",
       "    <tr>\n",
       "      <th>4</th>\n",
       "      <td>A3</td>\n",
       "      <td>2019</td>\n",
       "      <td>17300</td>\n",
       "      <td>1998</td>\n",
       "      <td>49.6</td>\n",
       "      <td>1.0</td>\n",
       "      <td>0</td>\n",
       "      <td>1</td>\n",
       "      <td>0</td>\n",
       "      <td>0</td>\n",
       "      <td>0</td>\n",
       "      <td>1</td>\n",
       "    </tr>\n",
       "  </tbody>\n",
       "</table>\n",
       "</div>"
      ],
      "text/plain": [
       "  model  year  price  mileage   mpg  engineSize  transmission_Automatic  \\\n",
       "0    A1  2017  12500    15735  55.4         1.4                       0   \n",
       "1    A6  2016  16500    36203  64.2         2.0                       1   \n",
       "2    A1  2016  11000    29946  55.4         1.4                       0   \n",
       "3    A4  2017  16800    25952  67.3         2.0                       1   \n",
       "4    A3  2019  17300     1998  49.6         1.0                       0   \n",
       "\n",
       "   transmission_Manual  transmission_Semi-Auto  fuelType_Diesel  \\\n",
       "0                    1                       0                0   \n",
       "1                    0                       0                1   \n",
       "2                    1                       0                0   \n",
       "3                    0                       0                1   \n",
       "4                    1                       0                0   \n",
       "\n",
       "   fuelType_Hybrid  fuelType_Petrol  \n",
       "0                0                1  \n",
       "1                0                0  \n",
       "2                0                1  \n",
       "3                0                0  \n",
       "4                0                1  "
      ]
     },
     "execution_count": 146,
     "metadata": {},
     "output_type": "execute_result"
    }
   ],
   "source": [
    "df.head()"
   ]
  },
  {
   "cell_type": "code",
   "execution_count": 147,
   "id": "f27ff15d",
   "metadata": {},
   "outputs": [
    {
     "data": {
      "text/plain": [
       "Index(['model', 'year', 'price', 'mileage', 'mpg', 'engineSize',\n",
       "       'transmission_Automatic', 'transmission_Manual',\n",
       "       'transmission_Semi-Auto', 'fuelType_Diesel', 'fuelType_Hybrid',\n",
       "       'fuelType_Petrol'],\n",
       "      dtype='object')"
      ]
     },
     "execution_count": 147,
     "metadata": {},
     "output_type": "execute_result"
    }
   ],
   "source": [
    "df.columns"
   ]
  },
  {
   "cell_type": "code",
   "execution_count": 206,
   "id": "1059d29b",
   "metadata": {},
   "outputs": [],
   "source": [
    "df=df.drop(['model'],axis=1)"
   ]
  },
  {
   "cell_type": "markdown",
   "id": "02baf90c",
   "metadata": {},
   "source": [
    "To see if feature scaling improves the accuracy of our model or not we will try running the algorithms without a feature scaler once and once with StandardScaler and once with MinMax"
   ]
  },
  {
   "cell_type": "code",
   "execution_count": 207,
   "id": "b1b51f6e",
   "metadata": {},
   "outputs": [],
   "source": [
    "from sklearn.preprocessing import MinMaxScaler\n",
    "\n",
    "Minmaxdf= MinMaxScaler().fit_transform(df)\n"
   ]
  },
  {
   "cell_type": "code",
   "execution_count": 217,
   "id": "5def8d09",
   "metadata": {},
   "outputs": [],
   "source": [
    "Minmaxdf=pd.DataFrame(Minmaxdf, columns = df.columns)"
   ]
  },
  {
   "cell_type": "code",
   "execution_count": 219,
   "id": "bffbf0ad",
   "metadata": {},
   "outputs": [],
   "source": [
    "from sklearn.preprocessing import StandardScaler\n",
    "\n",
    "Stdscalerdf  = StandardScaler().fit_transform(df)\n"
   ]
  },
  {
   "cell_type": "code",
   "execution_count": 220,
   "id": "39f934f4",
   "metadata": {},
   "outputs": [],
   "source": [
    "Stdscalerdf=pd.DataFrame(Stdscalerdf, columns = df.columns)"
   ]
  },
  {
   "cell_type": "code",
   "execution_count": 221,
   "id": "cb5d4626",
   "metadata": {},
   "outputs": [],
   "source": [
    "X= df.drop(['price'],axis=1)\n",
    "Y = df['price']"
   ]
  },
  {
   "cell_type": "code",
   "execution_count": 222,
   "id": "816af118",
   "metadata": {},
   "outputs": [],
   "source": [
    "from sklearn.model_selection import train_test_split\n",
    "X_train,X_test,Y_train,Y_test = train_test_split(X,Y,train_size=0.7,random_state=100)"
   ]
  },
  {
   "cell_type": "markdown",
   "id": "87e3fe5f",
   "metadata": {},
   "source": [
    "MinMax Scaler"
   ]
  },
  {
   "cell_type": "code",
   "execution_count": 223,
   "id": "5d03c152",
   "metadata": {},
   "outputs": [],
   "source": [
    "X_mtrain,X_mtest,Y_mtrain,Y_mtest = train_test_split(Minmaxdf.drop(columns = ['price']),Minmaxdf[['price']],train_size = 0.7, random_state = 0)"
   ]
  },
  {
   "cell_type": "markdown",
   "id": "d4936a86",
   "metadata": {},
   "source": [
    "Standard Scaler"
   ]
  },
  {
   "cell_type": "code",
   "execution_count": 224,
   "id": "0b36ff42",
   "metadata": {},
   "outputs": [],
   "source": [
    "X_strain,X_stest,Y_strain,Y_stest = train_test_split(Stdscalerdf.drop(columns = ['price']),Stdscalerdf[['price']],train_size=0.7,random_state=100)"
   ]
  },
  {
   "cell_type": "code",
   "execution_count": 225,
   "id": "f8662f89",
   "metadata": {},
   "outputs": [
    {
     "data": {
      "text/html": [
       "<div>\n",
       "<style scoped>\n",
       "    .dataframe tbody tr th:only-of-type {\n",
       "        vertical-align: middle;\n",
       "    }\n",
       "\n",
       "    .dataframe tbody tr th {\n",
       "        vertical-align: top;\n",
       "    }\n",
       "\n",
       "    .dataframe thead th {\n",
       "        text-align: right;\n",
       "    }\n",
       "</style>\n",
       "<table border=\"1\" class=\"dataframe\">\n",
       "  <thead>\n",
       "    <tr style=\"text-align: right;\">\n",
       "      <th></th>\n",
       "      <th>year</th>\n",
       "      <th>mileage</th>\n",
       "      <th>mpg</th>\n",
       "      <th>engineSize</th>\n",
       "      <th>transmission_Automatic</th>\n",
       "      <th>transmission_Manual</th>\n",
       "      <th>transmission_Semi-Auto</th>\n",
       "      <th>fuelType_Diesel</th>\n",
       "      <th>fuelType_Hybrid</th>\n",
       "      <th>fuelType_Petrol</th>\n",
       "    </tr>\n",
       "  </thead>\n",
       "  <tbody>\n",
       "    <tr>\n",
       "      <th>5936</th>\n",
       "      <td>2017</td>\n",
       "      <td>33200</td>\n",
       "      <td>55.4</td>\n",
       "      <td>2.0</td>\n",
       "      <td>0</td>\n",
       "      <td>0</td>\n",
       "      <td>1</td>\n",
       "      <td>1</td>\n",
       "      <td>0</td>\n",
       "      <td>0</td>\n",
       "    </tr>\n",
       "    <tr>\n",
       "      <th>7512</th>\n",
       "      <td>2018</td>\n",
       "      <td>14500</td>\n",
       "      <td>54.3</td>\n",
       "      <td>1.4</td>\n",
       "      <td>0</td>\n",
       "      <td>1</td>\n",
       "      <td>0</td>\n",
       "      <td>0</td>\n",
       "      <td>0</td>\n",
       "      <td>1</td>\n",
       "    </tr>\n",
       "    <tr>\n",
       "      <th>10440</th>\n",
       "      <td>2015</td>\n",
       "      <td>45669</td>\n",
       "      <td>60.1</td>\n",
       "      <td>1.4</td>\n",
       "      <td>1</td>\n",
       "      <td>0</td>\n",
       "      <td>0</td>\n",
       "      <td>0</td>\n",
       "      <td>0</td>\n",
       "      <td>1</td>\n",
       "    </tr>\n",
       "    <tr>\n",
       "      <th>9487</th>\n",
       "      <td>2020</td>\n",
       "      <td>94</td>\n",
       "      <td>40.4</td>\n",
       "      <td>2.0</td>\n",
       "      <td>1</td>\n",
       "      <td>0</td>\n",
       "      <td>0</td>\n",
       "      <td>0</td>\n",
       "      <td>0</td>\n",
       "      <td>1</td>\n",
       "    </tr>\n",
       "    <tr>\n",
       "      <th>9456</th>\n",
       "      <td>2017</td>\n",
       "      <td>11570</td>\n",
       "      <td>55.4</td>\n",
       "      <td>1.4</td>\n",
       "      <td>0</td>\n",
       "      <td>1</td>\n",
       "      <td>0</td>\n",
       "      <td>0</td>\n",
       "      <td>0</td>\n",
       "      <td>1</td>\n",
       "    </tr>\n",
       "  </tbody>\n",
       "</table>\n",
       "</div>"
      ],
      "text/plain": [
       "       year  mileage   mpg  engineSize  transmission_Automatic  \\\n",
       "5936   2017    33200  55.4         2.0                       0   \n",
       "7512   2018    14500  54.3         1.4                       0   \n",
       "10440  2015    45669  60.1         1.4                       1   \n",
       "9487   2020       94  40.4         2.0                       1   \n",
       "9456   2017    11570  55.4         1.4                       0   \n",
       "\n",
       "       transmission_Manual  transmission_Semi-Auto  fuelType_Diesel  \\\n",
       "5936                     0                       1                1   \n",
       "7512                     1                       0                0   \n",
       "10440                    0                       0                0   \n",
       "9487                     0                       0                0   \n",
       "9456                     1                       0                0   \n",
       "\n",
       "       fuelType_Hybrid  fuelType_Petrol  \n",
       "5936                 0                0  \n",
       "7512                 0                1  \n",
       "10440                0                1  \n",
       "9487                 0                1  \n",
       "9456                 0                1  "
      ]
     },
     "execution_count": 225,
     "metadata": {},
     "output_type": "execute_result"
    }
   ],
   "source": [
    "X_train.head()"
   ]
  },
  {
   "cell_type": "code",
   "execution_count": 226,
   "id": "51efa652",
   "metadata": {},
   "outputs": [
    {
     "data": {
      "text/plain": [
       "5936     22500\n",
       "7512     17444\n",
       "10440    13000\n",
       "9487     27995\n",
       "9456     12990\n",
       "Name: price, dtype: int64"
      ]
     },
     "execution_count": 226,
     "metadata": {},
     "output_type": "execute_result"
    }
   ],
   "source": [
    "Y_train.head()"
   ]
  },
  {
   "cell_type": "code",
   "execution_count": 227,
   "id": "dd5d43ba",
   "metadata": {},
   "outputs": [],
   "source": [
    "from sklearn.linear_model import LinearRegression, Ridge, Lasso,ElasticNet\n"
   ]
  },
  {
   "cell_type": "markdown",
   "id": "ab824ef7",
   "metadata": {},
   "source": [
    "Linear Regression"
   ]
  },
  {
   "cell_type": "code",
   "execution_count": 228,
   "id": "30193738",
   "metadata": {},
   "outputs": [
    {
     "data": {
      "text/plain": [
       "77.55612360161552"
      ]
     },
     "execution_count": 228,
     "metadata": {},
     "output_type": "execute_result"
    }
   ],
   "source": [
    "linreg = LinearRegression().fit(X_train,Y_train)\n",
    "accuracy = linreg.score(X_test,Y_test)*100\n",
    "accuracy"
   ]
  },
  {
   "cell_type": "code",
   "execution_count": 232,
   "id": "65c7fce1",
   "metadata": {},
   "outputs": [
    {
     "data": {
      "text/plain": [
       "80.4044743498372"
      ]
     },
     "execution_count": 232,
     "metadata": {},
     "output_type": "execute_result"
    }
   ],
   "source": [
    "linreg = LinearRegression().fit(X_mtrain,Y_mtrain)\n",
    "accuracy = linreg.score(X_mtest,Y_mtest)*100\n",
    "accuracy"
   ]
  },
  {
   "cell_type": "code",
   "execution_count": 233,
   "id": "ff21c2ad",
   "metadata": {},
   "outputs": [
    {
     "data": {
      "text/plain": [
       "77.5572986804221"
      ]
     },
     "execution_count": 233,
     "metadata": {},
     "output_type": "execute_result"
    }
   ],
   "source": [
    "linreg = LinearRegression().fit(X_strain,Y_strain)\n",
    "accuracy = linreg.score(X_stest,Y_stest)*100\n",
    "accuracy"
   ]
  },
  {
   "cell_type": "markdown",
   "id": "95cf766e",
   "metadata": {},
   "source": [
    "Elastic Net"
   ]
  },
  {
   "cell_type": "code",
   "execution_count": 229,
   "id": "546b6787",
   "metadata": {},
   "outputs": [
    {
     "data": {
      "text/plain": [
       "66.80482263866342"
      ]
     },
     "execution_count": 229,
     "metadata": {},
     "output_type": "execute_result"
    }
   ],
   "source": [
    "elnet = ElasticNet(random_state=0).fit(X_train,Y_train)\n",
    "accuracy = elnet.score(X_test,Y_test)*100\n",
    "accuracy"
   ]
  },
  {
   "cell_type": "code",
   "execution_count": 234,
   "id": "4b35eb81",
   "metadata": {},
   "outputs": [
    {
     "data": {
      "text/plain": [
       "-0.005964147248893603"
      ]
     },
     "execution_count": 234,
     "metadata": {},
     "output_type": "execute_result"
    }
   ],
   "source": [
    "elnet = ElasticNet(random_state=0).fit(X_mtrain,Y_mtrain)\n",
    "accuracy = elnet.score(X_mtest,Y_mtest)*100\n",
    "accuracy"
   ]
  },
  {
   "cell_type": "code",
   "execution_count": 235,
   "id": "a28c4262",
   "metadata": {},
   "outputs": [
    {
     "data": {
      "text/plain": [
       "-3.0770563030254605"
      ]
     },
     "execution_count": 235,
     "metadata": {},
     "output_type": "execute_result"
    }
   ],
   "source": [
    "elnet = ElasticNet(random_state=0).fit(X_mtrain,Y_mtrain)\n",
    "accuracy = elnet.score(X_stest,Y_stest)*100\n",
    "accuracy"
   ]
  },
  {
   "cell_type": "markdown",
   "id": "f350cbf6",
   "metadata": {},
   "source": [
    "Ridge Regression"
   ]
  },
  {
   "cell_type": "code",
   "execution_count": 230,
   "id": "529ad3ac",
   "metadata": {},
   "outputs": [
    {
     "data": {
      "text/plain": [
       "77.55206699823644"
      ]
     },
     "execution_count": 230,
     "metadata": {},
     "output_type": "execute_result"
    }
   ],
   "source": [
    "rid =Ridge(alpha=1.0).fit(X_train,Y_train)\n",
    "accuracy = rid.score(X_test,Y_test)*100\n",
    "accuracy"
   ]
  },
  {
   "cell_type": "code",
   "execution_count": 237,
   "id": "c0654bae",
   "metadata": {},
   "outputs": [
    {
     "data": {
      "text/plain": [
       "80.42153594176949"
      ]
     },
     "execution_count": 237,
     "metadata": {},
     "output_type": "execute_result"
    }
   ],
   "source": [
    "rid =Ridge(alpha=1.0).fit(X_mtrain,Y_mtrain)\n",
    "accuracy = rid.score(X_mtest,Y_mtest)*100\n",
    "accuracy"
   ]
  },
  {
   "cell_type": "code",
   "execution_count": 236,
   "id": "e3d16649",
   "metadata": {},
   "outputs": [
    {
     "data": {
      "text/plain": [
       "77.55565792887217"
      ]
     },
     "execution_count": 236,
     "metadata": {},
     "output_type": "execute_result"
    }
   ],
   "source": [
    "rid =Ridge(alpha=1.0).fit(X_strain,Y_strain)\n",
    "accuracy = rid.score(X_stest,Y_stest)*100\n",
    "accuracy"
   ]
  },
  {
   "cell_type": "markdown",
   "id": "90d3c82e",
   "metadata": {},
   "source": [
    "Lasso Regression"
   ]
  },
  {
   "cell_type": "code",
   "execution_count": 231,
   "id": "d2fc0706",
   "metadata": {},
   "outputs": [
    {
     "data": {
      "text/plain": [
       "77.55613525207518"
      ]
     },
     "execution_count": 231,
     "metadata": {},
     "output_type": "execute_result"
    }
   ],
   "source": [
    "lass=Lasso(alpha=0.1).fit(X_train,Y_train)\n",
    "accuracy = lass.score(X_test,Y_test)*100\n",
    "accuracy"
   ]
  },
  {
   "cell_type": "code",
   "execution_count": 238,
   "id": "0e33918a",
   "metadata": {},
   "outputs": [
    {
     "data": {
      "text/plain": [
       "-0.005964147248893603"
      ]
     },
     "execution_count": 238,
     "metadata": {},
     "output_type": "execute_result"
    }
   ],
   "source": [
    "lass=Lasso(alpha=0.1).fit(X_mtrain,Y_mtrain)\n",
    "accuracy = lass.score(X_mtest,Y_mtest)*100\n",
    "accuracy"
   ]
  },
  {
   "cell_type": "code",
   "execution_count": 239,
   "id": "b58efd6b",
   "metadata": {},
   "outputs": [
    {
     "data": {
      "text/plain": [
       "73.72254558952748"
      ]
     },
     "execution_count": 239,
     "metadata": {},
     "output_type": "execute_result"
    }
   ],
   "source": [
    "lass=Lasso(alpha=0.1).fit(X_strain,Y_strain)\n",
    "accuracy = lass.score(X_stest,Y_stest)*100\n",
    "accuracy"
   ]
  },
  {
   "cell_type": "code",
   "execution_count": null,
   "id": "b30a13a8",
   "metadata": {},
   "outputs": [],
   "source": []
  }
 ],
 "metadata": {
  "kernelspec": {
   "display_name": "Python 3",
   "language": "python",
   "name": "python3"
  },
  "language_info": {
   "codemirror_mode": {
    "name": "ipython",
    "version": 3
   },
   "file_extension": ".py",
   "mimetype": "text/x-python",
   "name": "python",
   "nbconvert_exporter": "python",
   "pygments_lexer": "ipython3",
   "version": "3.8.8"
  }
 },
 "nbformat": 4,
 "nbformat_minor": 5
}
